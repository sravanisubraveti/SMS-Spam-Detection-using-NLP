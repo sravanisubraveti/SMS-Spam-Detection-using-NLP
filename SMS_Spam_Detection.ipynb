{
  "nbformat": 4,
  "nbformat_minor": 0,
  "metadata": {
    "colab": {
      "name": "SMS Spam Detection.ipynb",
      "provenance": []
    },
    "kernelspec": {
      "name": "python3",
      "display_name": "Python 3"
    },
    "language_info": {
      "name": "python"
    },
    "accelerator": "GPU"
  },
  "cells": [
    {
      "cell_type": "code",
      "metadata": {
        "id": "RHgVyBE7pquW",
        "colab": {
          "base_uri": "https://localhost:8080/"
        },
        "outputId": "7088191f-f217-4391-e860-7871acf8e5aa"
      },
      "source": [
        "\n",
        "import nltk\n",
        "from nltk.stem.porter import PorterStemmer \n",
        "from nltk.corpus import stopwords\n",
        "import re\n",
        "import pandas as pd\n",
        "nltk.download('stopwords')\n",
        "nltk.download('wordnet')\n",
        "nltk.download('puntk')"
      ],
      "execution_count": 68,
      "outputs": [
        {
          "output_type": "stream",
          "name": "stdout",
          "text": [
            "[nltk_data] Downloading package stopwords to /root/nltk_data...\n",
            "[nltk_data]   Package stopwords is already up-to-date!\n",
            "[nltk_data] Downloading package wordnet to /root/nltk_data...\n",
            "[nltk_data]   Package wordnet is already up-to-date!\n",
            "[nltk_data] Error loading puntk: Package 'puntk' not found in index\n"
          ]
        },
        {
          "output_type": "execute_result",
          "data": {
            "text/plain": [
              "False"
            ]
          },
          "metadata": {},
          "execution_count": 68
        }
      ]
    },
    {
      "cell_type": "markdown",
      "metadata": {
        "id": "ce2J5xO3J-Wz"
      },
      "source": [
        "Importing Libraries and dowloading the nltk packages"
      ]
    },
    {
      "cell_type": "code",
      "metadata": {
        "id": "GFoQs6bwDCLy"
      },
      "source": [
        "data = pd.read_csv(\"SMSSpamDectection.csv\",names=[\"label\", \"message\"])"
      ],
      "execution_count": null,
      "outputs": []
    },
    {
      "cell_type": "code",
      "metadata": {
        "colab": {
          "base_uri": "https://localhost:8080/"
        },
        "id": "7iqMbkQkFDpN",
        "outputId": "f4258af4-a6ba-490d-9dc4-df4d1c06fad8"
      },
      "source": [
        "data.shape"
      ],
      "execution_count": null,
      "outputs": [
        {
          "output_type": "execute_result",
          "data": {
            "text/plain": [
              "(5575, 2)"
            ]
          },
          "metadata": {},
          "execution_count": 46
        }
      ]
    },
    {
      "cell_type": "code",
      "metadata": {
        "colab": {
          "base_uri": "https://localhost:8080/"
        },
        "id": "meQBnGvvFDsF",
        "outputId": "e3870a2d-56ff-4a5e-f242-e1d18d13db60"
      },
      "source": [
        "data.describe"
      ],
      "execution_count": null,
      "outputs": [
        {
          "output_type": "execute_result",
          "data": {
            "text/plain": [
              "<bound method NDFrame.describe of         label                                            message\n",
              "0     Column1                                            Column2\n",
              "1         ham  Go until jurong point, crazy.. Available only ...\n",
              "2         ham                      Ok lar... Joking wif u oni...\n",
              "3        spam  Free entry in 2 a wkly comp to win FA Cup fina...\n",
              "4         ham  U dun say so early hor... U c already then say...\n",
              "...       ...                                                ...\n",
              "5570     spam  This is the 2nd time we have tried 2 contact u...\n",
              "5571      ham              Will Ã¼ b going to esplanade fr home?\n",
              "5572      ham  Pity, * was in mood for that. So...any other s...\n",
              "5573      ham  The guy did some bitching but I acted like i'd...\n",
              "5574      ham                         Rofl. Its true to its name\n",
              "\n",
              "[5575 rows x 2 columns]>"
            ]
          },
          "metadata": {},
          "execution_count": 47
        }
      ]
    },
    {
      "cell_type": "markdown",
      "metadata": {
        "id": "7GHCDK2XKEd5"
      },
      "source": [
        "in Column1 we have the labels to classify ham and spam and column2 has text to understand wheather the message is spam or ham"
      ]
    },
    {
      "cell_type": "code",
      "metadata": {
        "colab": {
          "base_uri": "https://localhost:8080/"
        },
        "id": "YyR_w7c_FOF5",
        "outputId": "37ee6dad-a273-4ca6-f7ef-d6900c8a40d4"
      },
      "source": [
        "data.dtypes"
      ],
      "execution_count": null,
      "outputs": [
        {
          "output_type": "execute_result",
          "data": {
            "text/plain": [
              "label      object\n",
              "message    object\n",
              "dtype: object"
            ]
          },
          "metadata": {},
          "execution_count": 48
        }
      ]
    },
    {
      "cell_type": "code",
      "metadata": {
        "id": "LokENrwYERXa"
      },
      "source": [
        "ps = PorterStemmer()\n",
        "corpus = []\n",
        "for i in range(0, len(data)):\n",
        "    review = re.sub('[^a-zA-Z]', ' ', data['message'][i])\n",
        "    review = review.lower()\n",
        "    review = review.split()\n",
        "    \n",
        "    review = [ps.stem(word) for word in review if not word in stopwords.words('english')]\n",
        "    review = ' '.join(review)\n",
        "    corpus.append(review)"
      ],
      "execution_count": 69,
      "outputs": []
    },
    {
      "cell_type": "markdown",
      "metadata": {
        "id": "iuI61NmkKgPq"
      },
      "source": [
        "Apply stemming and preprocessing steps to the data"
      ]
    },
    {
      "cell_type": "code",
      "metadata": {
        "colab": {
          "base_uri": "https://localhost:8080/",
          "height": 417
        },
        "id": "ua5Eczfj86Zl",
        "outputId": "27a98809-918e-454a-e5d4-4ad331381836"
      },
      "source": [
        "data"
      ],
      "execution_count": 70,
      "outputs": [
        {
          "output_type": "execute_result",
          "data": {
            "text/html": [
              "<div>\n",
              "<style scoped>\n",
              "    .dataframe tbody tr th:only-of-type {\n",
              "        vertical-align: middle;\n",
              "    }\n",
              "\n",
              "    .dataframe tbody tr th {\n",
              "        vertical-align: top;\n",
              "    }\n",
              "\n",
              "    .dataframe thead th {\n",
              "        text-align: right;\n",
              "    }\n",
              "</style>\n",
              "<table border=\"1\" class=\"dataframe\">\n",
              "  <thead>\n",
              "    <tr style=\"text-align: right;\">\n",
              "      <th></th>\n",
              "      <th>label</th>\n",
              "      <th>message</th>\n",
              "    </tr>\n",
              "  </thead>\n",
              "  <tbody>\n",
              "    <tr>\n",
              "      <th>0</th>\n",
              "      <td>Column1</td>\n",
              "      <td>Column2</td>\n",
              "    </tr>\n",
              "    <tr>\n",
              "      <th>1</th>\n",
              "      <td>ham</td>\n",
              "      <td>Go until jurong point, crazy.. Available only ...</td>\n",
              "    </tr>\n",
              "    <tr>\n",
              "      <th>2</th>\n",
              "      <td>ham</td>\n",
              "      <td>Ok lar... Joking wif u oni...</td>\n",
              "    </tr>\n",
              "    <tr>\n",
              "      <th>3</th>\n",
              "      <td>spam</td>\n",
              "      <td>Free entry in 2 a wkly comp to win FA Cup fina...</td>\n",
              "    </tr>\n",
              "    <tr>\n",
              "      <th>4</th>\n",
              "      <td>ham</td>\n",
              "      <td>U dun say so early hor... U c already then say...</td>\n",
              "    </tr>\n",
              "    <tr>\n",
              "      <th>...</th>\n",
              "      <td>...</td>\n",
              "      <td>...</td>\n",
              "    </tr>\n",
              "    <tr>\n",
              "      <th>5570</th>\n",
              "      <td>spam</td>\n",
              "      <td>This is the 2nd time we have tried 2 contact u...</td>\n",
              "    </tr>\n",
              "    <tr>\n",
              "      <th>5571</th>\n",
              "      <td>ham</td>\n",
              "      <td>Will Ã¼ b going to esplanade fr home?</td>\n",
              "    </tr>\n",
              "    <tr>\n",
              "      <th>5572</th>\n",
              "      <td>ham</td>\n",
              "      <td>Pity, * was in mood for that. So...any other s...</td>\n",
              "    </tr>\n",
              "    <tr>\n",
              "      <th>5573</th>\n",
              "      <td>ham</td>\n",
              "      <td>The guy did some bitching but I acted like i'd...</td>\n",
              "    </tr>\n",
              "    <tr>\n",
              "      <th>5574</th>\n",
              "      <td>ham</td>\n",
              "      <td>Rofl. Its true to its name</td>\n",
              "    </tr>\n",
              "  </tbody>\n",
              "</table>\n",
              "<p>5575 rows × 2 columns</p>\n",
              "</div>"
            ],
            "text/plain": [
              "        label                                            message\n",
              "0     Column1                                            Column2\n",
              "1         ham  Go until jurong point, crazy.. Available only ...\n",
              "2         ham                      Ok lar... Joking wif u oni...\n",
              "3        spam  Free entry in 2 a wkly comp to win FA Cup fina...\n",
              "4         ham  U dun say so early hor... U c already then say...\n",
              "...       ...                                                ...\n",
              "5570     spam  This is the 2nd time we have tried 2 contact u...\n",
              "5571      ham              Will Ã¼ b going to esplanade fr home?\n",
              "5572      ham  Pity, * was in mood for that. So...any other s...\n",
              "5573      ham  The guy did some bitching but I acted like i'd...\n",
              "5574      ham                         Rofl. Its true to its name\n",
              "\n",
              "[5575 rows x 2 columns]"
            ]
          },
          "metadata": {},
          "execution_count": 70
        }
      ]
    },
    {
      "cell_type": "code",
      "metadata": {
        "id": "hhLjv9vBHPmS"
      },
      "source": [
        "#Bag of Words\n",
        "from sklearn.feature_extraction.text import CountVectorizer\n",
        "cv = CountVectorizer(max_features=5000)\n",
        "X = cv.fit_transform(data['message']).toarray()"
      ],
      "execution_count": 73,
      "outputs": []
    },
    {
      "cell_type": "markdown",
      "metadata": {
        "id": "bArphSL8K7YD"
      },
      "source": [
        "Counter vectorizer is used to calculate the occurance of each word in the given corpus. "
      ]
    },
    {
      "cell_type": "code",
      "metadata": {
        "colab": {
          "base_uri": "https://localhost:8080/"
        },
        "id": "h9UWiB2sRQHZ",
        "outputId": "82219207-c16e-463c-94bc-55d078559fc9"
      },
      "source": [
        "X.shape"
      ],
      "execution_count": 74,
      "outputs": [
        {
          "output_type": "execute_result",
          "data": {
            "text/plain": [
              "(5575, 5000)"
            ]
          },
          "metadata": {},
          "execution_count": 74
        }
      ]
    },
    {
      "cell_type": "markdown",
      "metadata": {
        "id": "swb4hEPvLuD7"
      },
      "source": [
        "The hyperparameter max_Features is decided based on the number of columns in X, here the X[1] = 8753. we can select a max features of 8753. However, we select the max = 5000, as the most important features to decide if the message is spam or not will be within the 5000 features"
      ]
    },
    {
      "cell_type": "code",
      "metadata": {
        "id": "oJrqvVGJRQ1O"
      },
      "source": [
        "y = pd.get_dummies(data['label'])\n",
        "y = y.iloc[:,1].values"
      ],
      "execution_count": 75,
      "outputs": []
    },
    {
      "cell_type": "markdown",
      "metadata": {
        "id": "BXqX7eO1NRc_"
      },
      "source": [
        "to separate the labels from the data, we creat a dummy variable and then store the values in y"
      ]
    },
    {
      "cell_type": "code",
      "metadata": {
        "id": "mZpiaLyvFWDM"
      },
      "source": [
        "from sklearn.model_selection import train_test_split\n",
        "X_train, X_Test, y_train, y_test = train_test_split(X, y, test_size = 0.20, random_state = 0)\n",
        "\n",
        "from sklearn.naive_bayes import MultinomialNB\n",
        "spam_detect_model = MultinomialNB().fit(X_train, y_train)\n",
        "\n",
        "y_pred=spam_detect_model.predict(X_Test)"
      ],
      "execution_count": 76,
      "outputs": []
    },
    {
      "cell_type": "markdown",
      "metadata": {
        "id": "GmMTX_31NedS"
      },
      "source": [
        "Applying Naive Bayes model to the data. "
      ]
    },
    {
      "cell_type": "code",
      "metadata": {
        "colab": {
          "base_uri": "https://localhost:8080/"
        },
        "id": "XlXrd5BpFs_P",
        "outputId": "465fdb00-5193-4ab3-c366-5cf17dd666ba"
      },
      "source": [
        "y_pred"
      ],
      "execution_count": 77,
      "outputs": [
        {
          "output_type": "execute_result",
          "data": {
            "text/plain": [
              "array([1, 1, 1, ..., 1, 1, 1], dtype=uint8)"
            ]
          },
          "metadata": {},
          "execution_count": 77
        }
      ]
    },
    {
      "cell_type": "code",
      "metadata": {
        "id": "e1y7aCQwFzdE"
      },
      "source": [
        "from sklearn.metrics import confusion_matrix\n",
        "confusion_m = confusion_matrix(y_test, y_pred)"
      ],
      "execution_count": 78,
      "outputs": []
    },
    {
      "cell_type": "code",
      "metadata": {
        "colab": {
          "base_uri": "https://localhost:8080/"
        },
        "id": "-8F_v5yKGZPo",
        "outputId": "2af9f46b-47f2-423f-cbef-b528205d208c"
      },
      "source": [
        "confusion_m"
      ],
      "execution_count": 79,
      "outputs": [
        {
          "output_type": "execute_result",
          "data": {
            "text/plain": [
              "array([[137,   2],\n",
              "       [ 10, 966]])"
            ]
          },
          "metadata": {},
          "execution_count": 79
        }
      ]
    },
    {
      "cell_type": "code",
      "metadata": {
        "id": "tfF-0YAxM2RZ"
      },
      "source": [
        "from sklearn.metrics import accuracy_score\n",
        "accuracy = accuracy_score(y_test,y_pred)"
      ],
      "execution_count": 80,
      "outputs": []
    },
    {
      "cell_type": "code",
      "metadata": {
        "colab": {
          "base_uri": "https://localhost:8080/"
        },
        "id": "PCqnnlAXNBK7",
        "outputId": "4317bc7f-3410-4f24-b71b-7ddcb744017a"
      },
      "source": [
        "accuracy"
      ],
      "execution_count": 81,
      "outputs": [
        {
          "output_type": "execute_result",
          "data": {
            "text/plain": [
              "0.989237668161435"
            ]
          },
          "metadata": {},
          "execution_count": 81
        }
      ]
    },
    {
      "cell_type": "markdown",
      "metadata": {
        "id": "7Yi2TnLWNJY_"
      },
      "source": [
        "The accuracy of the model is 98.9\\% for max_features = 5000"
      ]
    },
    {
      "cell_type": "code",
      "metadata": {
        "id": "clCsRar9NCA0"
      },
      "source": [
        ""
      ],
      "execution_count": null,
      "outputs": []
    }
  ]
}